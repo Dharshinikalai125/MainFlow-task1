{
 "cells": [
  {
   "cell_type": "markdown",
   "metadata": {},
   "source": [
    "LIST"
   ]
  },
  {
   "cell_type": "code",
   "execution_count": 5,
   "metadata": {},
   "outputs": [
    {
     "name": "stdout",
     "output_type": "stream",
     "text": [
      "Adding : [5, 20, 89, 40, 4]\n",
      "Removing: [5, 89, 40, 4]\n",
      "Updated List: [5, 89, 40, 64]\n"
     ]
    }
   ],
   "source": [
    "#Creating a list\n",
    "list=[5,20,89,40]\n",
    "#Adding an element to the list\n",
    "list.append(4)\n",
    "print(\"Adding :\",list)\n",
    "#Remove an element from the list\n",
    "list.remove(20)\n",
    "print(\"Removing:\",list)\n",
    "#Modifying a list\n",
    "list[3]=64\n",
    "#Updated list\n",
    "print(\"Updated List:\",list)"
   ]
  },
  {
   "cell_type": "markdown",
   "metadata": {},
   "source": [
    "DICTIONARY"
   ]
  },
  {
   "cell_type": "code",
   "execution_count": 7,
   "metadata": {},
   "outputs": [
    {
     "name": "stdout",
     "output_type": "stream",
     "text": [
      "Adding: {'name': 'Dharshini', 'age': 19, 'City': 'Trichy', 'gender': 'Female'}\n",
      "Deleting: {'name': 'Dharshini', 'City': 'Trichy', 'gender': 'Female'}\n",
      "Updated dictionary: {'name': 'Dharshini', 'City': 'Chennai', 'gender': 'Female'}\n"
     ]
    }
   ],
   "source": [
    "dict={'name':'Dharshini','age':19,'City':'Trichy'}\n",
    "#Adding\n",
    "dict['gender']='Female'\n",
    "print(\"Adding:\",dict)\n",
    "#Deleting\n",
    "del dict['age']\n",
    "print(\"Deleting:\",dict)\n",
    "#Modifying\n",
    "dict['City']='Chennai'\n",
    "print(\"Updated dictionary:\",dict)"
   ]
  },
  {
   "cell_type": "markdown",
   "metadata": {},
   "source": [
    "SET"
   ]
  },
  {
   "cell_type": "code",
   "execution_count": 6,
   "metadata": {},
   "outputs": [
    {
     "name": "stdout",
     "output_type": "stream",
     "text": [
      "Adding: {71, 53, 56, 24, 63}\n",
      "Removing: {53, 56, 24, 63}\n",
      "Updated set: {10, 53, 56, 24, 63}\n"
     ]
    }
   ],
   "source": [
    "set={56,71,24,53}\n",
    "#Adding\n",
    "set.add(63)\n",
    "print(\"Adding:\",set)\n",
    "#Removing\n",
    "set.remove(71)\n",
    "print(\"Removing:\",set)\n",
    "#Modifying\n",
    "set.discard(1)\n",
    "set.add(10)\n",
    "print(\"Updated set:\",set)"
   ]
  }
 ],
 "metadata": {
  "kernelspec": {
   "display_name": "Python 3",
   "language": "python",
   "name": "python3"
  },
  "language_info": {
   "codemirror_mode": {
    "name": "ipython",
    "version": 3
   },
   "file_extension": ".py",
   "mimetype": "text/x-python",
   "name": "python",
   "nbconvert_exporter": "python",
   "pygments_lexer": "ipython3",
   "version": "3.12.0"
  }
 },
 "nbformat": 4,
 "nbformat_minor": 2
}
